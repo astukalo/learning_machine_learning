{
 "cells": [
  {
   "cell_type": "markdown",
   "metadata": {},
   "source": [
    "Read & clean up data"
   ]
  },
  {
   "cell_type": "code",
   "execution_count": null,
   "metadata": {},
   "outputs": [],
   "source": [
    "import pandas\n",
    "\n",
    "X = pandas.read_csv('./data.csv')\n",
    "y = X['Activity']\n",
    "X.drop('Activity', inplace=True, axis=1)"
   ]
  },
  {
   "cell_type": "markdown",
   "metadata": {},
   "source": [
    "Split data into test and train sets"
   ]
  },
  {
   "cell_type": "code",
   "execution_count": null,
   "metadata": {},
   "outputs": [],
   "source": [
    "from sklearn.model_selection import train_test_split\n",
    "X_train, X_test, y_train, y_test = train_test_split(X, y, test_size=0.8, random_state=241)"
   ]
  },
  {
   "cell_type": "code",
   "execution_count": null,
   "metadata": {},
   "outputs": [],
   "source": [
    "import math\n",
    "\n",
    "def _sigmoid(x):\n",
    "    return 1 / (1 + math.exp(-x))\n",
    "\n",
    "def _log_loss(clf, X, y):\n",
    "#     train model\n",
    "    res = []\n",
    "#   get prediction quality on each iteration\n",
    "    for y_pred in clf.staged_decision_function(X):\n",
    "        sigmoid_arr = [_sigmoid(y) for y in y_pred]\n",
    "#         calc log loss for true and predicted values\n",
    "        ll_rate = log_loss(y, sigmoid_arr)\n",
    "        res.append(ll_rate)\n",
    "    return res"
   ]
  },
  {
   "cell_type": "code",
   "execution_count": null,
   "metadata": {},
   "outputs": [],
   "source": [
    "import matplotlib.pyplot as plt\n",
    "\n",
    "def _print_plot(plt, test_loss, train_loss):\n",
    "    plt.plot(test_loss, 'r', linewidth=2)\n",
    "    plt.plot(train_loss, 'g', linewidth=2)\n",
    "    plt.legend(['test', 'train'])"
   ]
  },
  {
   "cell_type": "raw",
   "metadata": {},
   "source": [
    "Train gradient boosting and find number of estimators with minimum log loss"
   ]
  },
  {
   "cell_type": "code",
   "execution_count": null,
   "metadata": {},
   "outputs": [],
   "source": [
    "from sklearn.ensemble import GradientBoostingClassifier\n",
    "from sklearn.metrics import log_loss\n",
    "\n",
    "learning_rate = [1, 0.5, 0.3, 0.2, 0.1]\n",
    "\n",
    "min_log_loss = 10000000\n",
    "min_log_loss_idx = 0\n",
    "\n",
    "%matplotlib inline\n",
    "fig, axs = plt.subplots(len(learning_rate), 1, sharex=True, sharey=True, figsize=(6, 20))\n",
    "idx = 0\n",
    "\n",
    "for lr in learning_rate:\n",
    "    clf = GradientBoostingClassifier(n_estimators=250, verbose=False, random_state=241, learning_rate=lr)\n",
    "    clf.fit(X_train, y_train)    \n",
    "    \n",
    "    plt = axs[idx]\n",
    "    plt.set_title('learning_rate=' + str(lr))\n",
    "    idx = idx + 1\n",
    "    \n",
    "    log_loss_train_set = _log_loss(clf, X_train, y_train)\n",
    "\n",
    "    log_loss_test_set = _log_loss(clf, X_test, y_test)\n",
    "    \n",
    "    _print_plot(plt, log_loss_test_set, log_loss_train_set)\n",
    "\n",
    "#     find min log loss and iteration\n",
    "    if lr == 0.2:\n",
    "        for i, ll in enumerate(log_loss_test_set):\n",
    "            if ll < min_log_loss:\n",
    "                min_log_loss = ll\n",
    "                min_log_loss_idx = i\n",
    "\n",
    "print(\"Log loss minimum:\", min_log_loss)\n",
    "print(\"Log loss minimum at iteration:\", min_log_loss_idx)"
   ]
  },
  {
   "cell_type": "markdown",
   "metadata": {},
   "source": [
    "Compare log loss for random forest for the min number of estimators as for gradient boosting:"
   ]
  },
  {
   "cell_type": "code",
   "execution_count": null,
   "metadata": {},
   "outputs": [],
   "source": [
    "from sklearn.ensemble import RandomForestClassifier\n",
    "\n",
    "num = min_log_loss_idx\n",
    "clf = RandomForestClassifier(n_estimators=min_log_loss_idx, random_state=241)\n",
    "clf.fit(X_train, y_train)\n",
    "log_loss_rf = log_loss(y_test, clf.predict_proba(X_test))\n",
    "print(\"log loss for random forest:\", log_loss_rf)"
   ]
  },
  {
   "cell_type": "code",
   "execution_count": null,
   "metadata": {},
   "outputs": [],
   "source": [
    "print(\"Random forest for estimators\", num, 'is', 'better' if log_loss_rf < min_log_loss else 'worse')"
   ]
  },
  {
   "cell_type": "code",
   "execution_count": null,
   "metadata": {},
   "outputs": [],
   "source": [
    "num = min_log_loss_idx + 100\n",
    "clf = RandomForestClassifier(n_estimators=num, random_state=241)\n",
    "clf.fit(X_train, y_train)\n",
    "log_loss_rf = log_loss(y_test, clf.predict_proba(X_test))\n",
    "print(\"Random forest for estimators\", num, 'is', 'better' if log_loss_rf < min_log_loss else 'worse')"
   ]
  }
 ],
 "metadata": {
  "kernelspec": {
   "display_name": "Python 3",
   "language": "python",
   "name": "python3"
  },
  "language_info": {
   "codemirror_mode": {
    "name": "ipython",
    "version": 3.0
   },
   "file_extension": ".py",
   "mimetype": "text/x-python",
   "name": "python",
   "nbconvert_exporter": "python",
   "pygments_lexer": "ipython3",
   "version": "3.6.5"
  }
 },
 "nbformat": 4,
 "nbformat_minor": 0
}